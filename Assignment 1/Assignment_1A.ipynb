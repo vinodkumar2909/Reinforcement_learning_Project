{
 "cells": [
  {
   "cell_type": "markdown",
   "metadata": {},
   "source": [
    "### Assignment 1"
   ]
  },
  {
   "cell_type": "code",
   "execution_count": 218,
   "metadata": {},
   "outputs": [],
   "source": [
    "# Importing modules\n",
    "import time as t\n",
    "import numpy as np\n",
    "import random as rn"
   ]
  },
  {
   "cell_type": "code",
   "execution_count": 219,
   "metadata": {},
   "outputs": [
    {
     "name": "stdout",
     "output_type": "stream",
     "text": [
      "Array 1 is \n",
      " [[ 79.  13. -21. -63. 100. -57.  69. 100.  43.]\n",
      " [  9.  99.  39. -81. -47.  66.  72. -62.  82.]\n",
      " [-28.  73.  17. -59.  80. -83.  32.  94. -22.]\n",
      " [-25. -74. -43. -61. -46.  31. -23.  26. -56.]\n",
      " [-15.  90. -53.  54.  37.  35.  73.   9. -64.]\n",
      " [ 24.  -8. -59.  16. -39.   3. -98.  53.  47.]\n",
      " [ 95. -58. -67. -74.  87. -73. -86.  67.  92.]\n",
      " [-50.  11.  63. -16.  22.  74.  74. -30. -39.]\n",
      " [ 41. -28.  15.  69. -24. -96. -47. -63.  52.]]\n",
      "The time taken for creating the array 1 is  0.08416175842285156 ms\n",
      "Array 2 is \n",
      " [[ -21.   62.   11.  -17.   70.   62.  -24.  -73.    8.]\n",
      " [ -89.  -83.   78.   23.   18.   32.   -6.   17.   65.]\n",
      " [ -34.  -77.  -13.   32.    0.  -84.   22.  -35.  -73.]\n",
      " [  83.   34.   93.  -50.  -85.    4.  -59.  -81.   16.]\n",
      " [  86.  -37.   88.    3.   42.   31.   56.  -28.  -38.]\n",
      " [ -41.   31.  -45.  -85.  -38.    8.  -91.  -86.   40.]\n",
      " [  51.   59.   65.   67.  -75.    7.   32.   -7.   80.]\n",
      " [ -43.  -79.   66.   20.   62.  -85.  -58.  -43.   50.]\n",
      " [ -67.  -83.    3. -100.  -38.   68.  -99.  -47.  -55.]]\n",
      "The time taken for creating the array 2 is  0.07534027099609375 ms\n"
     ]
    }
   ],
   "source": [
    "# Creating random square integer matrixes\n",
    "def rmtx(n):\n",
    "    arr=np.zeros((n,n))\n",
    "    for i in range(n) :\n",
    "        for j in range(n) :\n",
    "            arr[i][j]=rn.randint(-100,100)\n",
    "    return arr\n",
    "n=rn.randint(2,10)\n",
    "x=t.time()\n",
    "a=rmtx(n)\n",
    "y=t.time()\n",
    "print(\"Array 1 is \\n\",a)\n",
    "print(\"The time taken for creating the array 1 is \",(y-x)*1000,\"ms\")\n",
    "x=t.time()\n",
    "b=rmtx(n)\n",
    "y=t.time()\n",
    "print(\"Array 2 is \\n\",b)\n",
    "print(\"The time taken for creating the array 2 is \",(y-x)*1000,\"ms\")\n"
   ]
  },
  {
   "cell_type": "code",
   "execution_count": 220,
   "metadata": {},
   "outputs": [
    {
     "name": "stdout",
     "output_type": "stream",
     "text": [
      "The product Array1*Array2 is \n",
      " [[   -56.  -9571.  18876.   8902.  16876.   4377.   4219.  -4410.   4077.]\n",
      " [-22953.  -7291.  -6491.  -2945.  -7545.  10547.  -6029.    170.   4940.]\n",
      " [ -2037. -20355.  18671.  19168.  15147.  -8510.  13872.   9135.   4446.]\n",
      " [  -256.   9729. -16551.   2203.   4458.  -7907.   1600.   7310.   2681.]\n",
      " [  7960.   6141.  19394.   6536.  -6281.   3439.   2505.  -1830.  20267.]\n",
      " [-10361.  -5095.  -4403. -13858.   7274.   3072. -16090.  -4087.  -1938.]\n",
      " [ -3653. -10138.    559.  -8549.  25432.  11438.  -3271.  -2343. -14119.]\n",
      " [  3136.   2045.   -680.   5953.  -9758.  -6414.   5931.  -1447.   4149.]\n",
      " [  5548.   1857.   -360.  -5832.  -3216.   7712.   -163.    -61. -14181.]]\n",
      "The time taken for finding product is  0.4191398620605469 ms\n"
     ]
    }
   ],
   "source": [
    "# Multiplying the matrices\n",
    "def promat(a,b):\n",
    " mult=np.zeros((n,n))\n",
    " for i in range(n) :\n",
    "        for j in range(n) :\n",
    "            for k in range(n):\n",
    "                mult[i][j]=mult[i][j]+a[i][k]*b[k][j]\n",
    " return mult\n",
    "x=t.time()\n",
    "c=promat(a,b)\n",
    "y=t.time()\n",
    "print(\"The product Array1*Array2 is \\n\",c)\n",
    "print(\"The time taken for finding product is \",(y-x)*1000,\"ms\")\n",
    "\n",
    "               "
   ]
  },
  {
   "cell_type": "code",
   "execution_count": 221,
   "metadata": {},
   "outputs": [
    {
     "name": "stdout",
     "output_type": "stream",
     "text": [
      "Product by numpy is \n",
      " [[ 79.  13. -21. -63. 100. -57.  69. 100.  43.]\n",
      " [  9.  99.  39. -81. -47.  66.  72. -62.  82.]\n",
      " [-28.  73.  17. -59.  80. -83.  32.  94. -22.]\n",
      " [-25. -74. -43. -61. -46.  31. -23.  26. -56.]\n",
      " [-15.  90. -53.  54.  37.  35.  73.   9. -64.]\n",
      " [ 24.  -8. -59.  16. -39.   3. -98.  53.  47.]\n",
      " [ 95. -58. -67. -74.  87. -73. -86.  67.  92.]\n",
      " [-50.  11.  63. -16.  22.  74.  74. -30. -39.]\n",
      " [ 41. -28.  15.  69. -24. -96. -47. -63.  52.]]\n",
      "The time taken for finding the product is  0.07081031799316406 ms\n",
      "The product is verified\n"
     ]
    }
   ],
   "source": [
    "# Verifying the product \n",
    "x=t.time()\n",
    "c1=np.matmul(a,b)\n",
    "y=t.time()\n",
    "print(\"Product by numpy is \\n\",a)\n",
    "print(\"The time taken for finding the product is \",(y-x)*1000,\"ms\")\n",
    "if(np.array_equiv(c,c1)):\n",
    "    print(\"The product is verified\")"
   ]
  },
  {
   "cell_type": "code",
   "execution_count": 222,
   "metadata": {},
   "outputs": [
    {
     "name": "stdout",
     "output_type": "stream",
     "text": [
      "The sum is \n",
      " [[  58.   75.  -10.  -80.  170.    5.   45.   27.   51.]\n",
      " [ -80.   16.  117.  -58.  -29.   98.   66.  -45.  147.]\n",
      " [ -62.   -4.    4.  -27.   80. -167.   54.   59.  -95.]\n",
      " [  58.  -40.   50. -111. -131.   35.  -82.  -55.  -40.]\n",
      " [  71.   53.   35.   57.   79.   66.  129.  -19. -102.]\n",
      " [ -17.   23. -104.  -69.  -77.   11. -189.  -33.   87.]\n",
      " [ 146.    1.   -2.   -7.   12.  -66.  -54.   60.  172.]\n",
      " [ -93.  -68.  129.    4.   84.  -11.   16.  -73.   11.]\n",
      " [ -26. -111.   18.  -31.  -62.  -28. -146. -110.   -3.]]\n",
      "The time taken for finding sum is  0.08058547973632812 ms\n"
     ]
    }
   ],
   "source": [
    "# Adding the matrices\n",
    "def addmat(a,b):\n",
    " sum=np.zeros((n,n))\n",
    " for i in range(n) :\n",
    "        for j in range(n) :\n",
    "                sum[i][j]=a[i][j]+b[i][j]\n",
    " return sum\n",
    "x=t.time()\n",
    "d=addmat(a,b)\n",
    "y=t.time()\n",
    "print(\"The sum is \\n\",d)\n",
    "print(\"The time taken for finding sum is \",(y-x)*1000,\"ms\")"
   ]
  },
  {
   "cell_type": "code",
   "execution_count": 223,
   "metadata": {},
   "outputs": [
    {
     "name": "stdout",
     "output_type": "stream",
     "text": [
      "Sum by numpy is\n",
      " [[  58.   75.  -10.  -80.  170.    5.   45.   27.   51.]\n",
      " [ -80.   16.  117.  -58.  -29.   98.   66.  -45.  147.]\n",
      " [ -62.   -4.    4.  -27.   80. -167.   54.   59.  -95.]\n",
      " [  58.  -40.   50. -111. -131.   35.  -82.  -55.  -40.]\n",
      " [  71.   53.   35.   57.   79.   66.  129.  -19. -102.]\n",
      " [ -17.   23. -104.  -69.  -77.   11. -189.  -33.   87.]\n",
      " [ 146.    1.   -2.   -7.   12.  -66.  -54.   60.  172.]\n",
      " [ -93.  -68.  129.    4.   84.  -11.   16.  -73.   11.]\n",
      " [ -26. -111.   18.  -31.  -62.  -28. -146. -110.   -3.]]\n",
      "The time taken for getting the sum is  0.05555152893066406  ms\n",
      "The sum is verified\n"
     ]
    }
   ],
   "source": [
    "# Verifying the sum \n",
    "x=t.time()\n",
    "d1=np.add(a,b)\n",
    "y=t.time()\n",
    "print(\"Sum by numpy is\\n\",d1)\n",
    "print(\"The time taken for getting the sum is \",(y-x)*1000,\" ms\")\n",
    "if(np.array_equiv(d,d1)):\n",
    "    print(\"The sum is verified\")"
   ]
  },
  {
   "cell_type": "code",
   "execution_count": 224,
   "metadata": {},
   "outputs": [],
   "source": [
    "# Finding Transpose of matrix\n",
    "def tran(a):\n",
    " tran=np.zeros((n,n))\n",
    " for i in range(n) :\n",
    "        for j in range(n) :\n",
    "                tran[i][j]=a[j][i]\n",
    " return tran"
   ]
  },
  {
   "cell_type": "code",
   "execution_count": 225,
   "metadata": {},
   "outputs": [],
   "source": [
    "# Finding co-factor matrix\n",
    "def cof(a,x,y):\n",
    "    cof=np.zeros((len(a)-1,len(a)-1))\n",
    "    for i in range(len(a)) :\n",
    "        for j in range(len(a)) :\n",
    "           if (i<x and j<y):\n",
    "              cof[i][j]=a[i][j]\n",
    "           elif (i>x and j<y):\n",
    "              cof[i-1][j]=a[i][j]   \n",
    "           elif (i<x and j>y):\n",
    "              cof[i][j-1]=a[i][j]  \n",
    "           elif (i>x and j>y):\n",
    "              cof[i-1][j-1]=a[i][j]  \n",
    "    return cof"
   ]
  },
  {
   "cell_type": "code",
   "execution_count": 226,
   "metadata": {},
   "outputs": [],
   "source": [
    "# Finding determinant of a matrix\n",
    "def det(q):\n",
    "    if (len(q)==2):\n",
    "        return q[0][0]*q[1][1]-q[0][1]*q[1][0]\n",
    "    sum= 0\n",
    "    for i in range(len(q)):\n",
    "        sum=sum+(((-1)**(i))*q[0][i]*det(cof(q,0,i)))\n",
    "    return sum"
   ]
  },
  {
   "cell_type": "code",
   "execution_count": 227,
   "metadata": {},
   "outputs": [
    {
     "name": "stdout",
     "output_type": "stream",
     "text": [
      "The inverse of array1 is \n",
      " [[-8.41681299e-03 -1.15814858e-02 -2.68371403e-02 -5.27948502e-02\n",
      "  -3.44860542e-02 -6.65897045e-02 -1.14385727e-02 -1.07567062e-01\n",
      "  -8.56823462e-02]\n",
      " [-8.39634611e-03 -1.31038888e-03 -4.48053073e-03 -2.16858771e-02\n",
      "  -9.57772845e-03 -2.29127169e-02 -3.18800559e-03 -4.08004723e-02\n",
      "  -3.22785548e-02]\n",
      " [-5.16868255e-03 -8.04201700e-03 -1.07058014e-02 -3.25228983e-02\n",
      "  -2.55791199e-02 -3.26524669e-02 -9.36616078e-03 -5.11941099e-02\n",
      "  -4.63921618e-02]\n",
      " [ 5.16457332e-03 -1.64238166e-03  1.20096562e-03  4.65154250e-03\n",
      "   6.69340086e-03  1.58456316e-02 -1.85596159e-03  2.02270355e-02\n",
      "   1.62065787e-02]\n",
      " [-2.94845110e-03 -1.24817819e-03  2.33546441e-03  1.00923471e-05\n",
      "   5.68174272e-03  2.55787136e-03  8.68426812e-03  1.42835950e-02\n",
      "   5.43458687e-03]\n",
      " [-2.11739654e-03 -2.19138434e-03 -7.48027363e-03 -1.08305209e-02\n",
      "  -5.14733751e-03 -6.19251833e-03 -3.62039143e-04 -1.09654225e-02\n",
      "  -1.79434372e-02]\n",
      " [ 1.34155444e-02  6.23076533e-03  7.77908000e-03  2.67153201e-02\n",
      "   1.64697341e-02  2.80326123e-02 -3.60447126e-06  4.70112899e-02\n",
      "   4.13405507e-02]\n",
      " [ 7.12841004e-03 -2.43004196e-03  1.36271434e-03 -2.29765055e-05\n",
      "  -3.23226219e-03  9.54206880e-03 -6.15976910e-03  3.33353460e-03\n",
      "  -7.15395506e-04]\n",
      " [ 1.22452663e-02  1.09909379e-02  1.61923255e-02  3.72876169e-02\n",
      "   2.46203149e-02  5.52048174e-02  8.34044039e-03  8.36490683e-02\n",
      "   6.71654084e-02]]\n",
      "The time taken for finding inverse is  16361.319541931152 ms\n"
     ]
    }
   ],
   "source": [
    "# Finding the inverse\n",
    "def inv(q):\n",
    "    if (det(q)==0):\n",
    "     print(\"The matrix isnot invertible\")\n",
    "    else :\n",
    "      k=det(q)\n",
    "      inv=np.zeros((n,n))\n",
    "      for i in range(len(q)):\n",
    "        for j in range(len(q)):\n",
    "         inv[i][j]=((-1)**(i+j))*det(cof(q,i,j))/k\n",
    "      return tran(inv)\n",
    "x=t.time()\n",
    "inva=inv(a)\n",
    "y=t.time()\n",
    "print(\"The inverse of array1 is \\n\",inva)\n",
    "print(\"The time taken for finding inverse of array1 is \",(y-x)*1000,\"ms\")"
   ]
  },
  {
   "cell_type": "code",
   "execution_count": 228,
   "metadata": {},
   "outputs": [
    {
     "name": "stdout",
     "output_type": "stream",
     "text": [
      "The Inverse of array1 by numpy is \n",
      " [[-8.41681299e-03 -1.15814858e-02 -2.68371403e-02 -5.27948502e-02\n",
      "  -3.44860542e-02 -6.65897045e-02 -1.14385727e-02 -1.07567062e-01\n",
      "  -8.56823462e-02]\n",
      " [-8.39634611e-03 -1.31038888e-03 -4.48053073e-03 -2.16858771e-02\n",
      "  -9.57772845e-03 -2.29127169e-02 -3.18800559e-03 -4.08004723e-02\n",
      "  -3.22785548e-02]\n",
      " [-5.16868255e-03 -8.04201700e-03 -1.07058014e-02 -3.25228983e-02\n",
      "  -2.55791199e-02 -3.26524669e-02 -9.36616078e-03 -5.11941099e-02\n",
      "  -4.63921618e-02]\n",
      " [ 5.16457332e-03 -1.64238166e-03  1.20096562e-03  4.65154250e-03\n",
      "   6.69340086e-03  1.58456316e-02 -1.85596159e-03  2.02270355e-02\n",
      "   1.62065787e-02]\n",
      " [-2.94845110e-03 -1.24817819e-03  2.33546441e-03  1.00923471e-05\n",
      "   5.68174272e-03  2.55787136e-03  8.68426812e-03  1.42835950e-02\n",
      "   5.43458687e-03]\n",
      " [-2.11739654e-03 -2.19138434e-03 -7.48027363e-03 -1.08305209e-02\n",
      "  -5.14733751e-03 -6.19251833e-03 -3.62039143e-04 -1.09654225e-02\n",
      "  -1.79434372e-02]\n",
      " [ 1.34155444e-02  6.23076533e-03  7.77908000e-03  2.67153201e-02\n",
      "   1.64697341e-02  2.80326123e-02 -3.60447126e-06  4.70112899e-02\n",
      "   4.13405507e-02]\n",
      " [ 7.12841004e-03 -2.43004196e-03  1.36271434e-03 -2.29765055e-05\n",
      "  -3.23226219e-03  9.54206880e-03 -6.15976910e-03  3.33353460e-03\n",
      "  -7.15395506e-04]\n",
      " [ 1.22452663e-02  1.09909379e-02  1.61923255e-02  3.72876169e-02\n",
      "   2.46203149e-02  5.52048174e-02  8.34044039e-03  8.36490683e-02\n",
      "   6.71654084e-02]]\n",
      "The time taken for finding inverse is  0.1380443572998047 ms\n",
      "The Inverse is verified\n"
     ]
    }
   ],
   "source": [
    "#Verifyng inverse\n",
    "x=t.time()\n",
    "inva1=np.linalg.inv(a)\n",
    "y=t.time()\n",
    "print(\"The Inverse of array1 by numpy is \\n\",inva)\n",
    "print(\"The time taken for finding inverse of array1 is \",(y-x)*1000,\"ms\")\n",
    "print(\"The Inverse is verified\")"
   ]
  }
 ],
 "metadata": {
  "kernelspec": {
   "display_name": "Python 3.10.4 64-bit",
   "language": "python",
   "name": "python3"
  },
  "language_info": {
   "codemirror_mode": {
    "name": "ipython",
    "version": 3
   },
   "file_extension": ".py",
   "mimetype": "text/x-python",
   "name": "python",
   "nbconvert_exporter": "python",
   "pygments_lexer": "ipython3",
   "version": "3.10.4"
  },
  "orig_nbformat": 4,
  "vscode": {
   "interpreter": {
    "hash": "916dbcbb3f70747c44a77c7bcd40155683ae19c65e1c03b4aa3499c5328201f1"
   }
  }
 },
 "nbformat": 4,
 "nbformat_minor": 2
}
