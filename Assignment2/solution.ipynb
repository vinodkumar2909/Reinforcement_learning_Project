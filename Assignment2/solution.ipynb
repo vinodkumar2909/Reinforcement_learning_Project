{
 "cells": [
  {
   "cell_type": "code",
   "execution_count": 10,
   "metadata": {},
   "outputs": [],
   "source": [
    "# importing functions\n",
    "import pandas as pd\n",
    "import matplotlib.pyplot as mp"
   ]
  },
  {
   "cell_type": "code",
   "execution_count": 11,
   "metadata": {},
   "outputs": [],
   "source": [
    "# dividing the data\n",
    "data=pd.read_csv(\"CarPrice_Assignment.csv\")\n",
    "x=len(data)\n",
    "s=int(0.8*x)\n",
    "tr=data.loc[1:s,:]\n",
    "te=data.loc[s:,:]\n"
   ]
  },
  {
   "cell_type": "code",
   "execution_count": 12,
   "metadata": {},
   "outputs": [],
   "source": [
    "# cost function\n",
    "def cos(w1,w2,w3,w4,w5,w6,w7):\n",
    "  j=0\n",
    "  for i in range(1,s):\n",
    "    j=j+ (w1*tr.carlength[i]+w2*tr.horsepower[i]+w3*tr.enginesize[i]+w4*tr.carheight[i]+w5*tr.carwidth[i]+w6*tr.stroke[i]+w7-tr.price[i])**2\n",
    "  return j/(s)"
   ]
  },
  {
   "cell_type": "code",
   "execution_count": 13,
   "metadata": {},
   "outputs": [],
   "source": [
    "# gradient functions\n",
    "def grad1(w1,w2,w3,w4,w5,w6,w7):\n",
    "  j=0\n",
    "  for i in range(1,s):\n",
    "    j=j+ (w1*tr.carlength[i]+w2*tr.horsepower[i]+w3*tr.enginesize[i]+w4*tr.carheight[i]+w5*tr.carwidth[i]+w6*tr.stroke[i]+w7-tr.price[i])*(tr.carlength[i])\n",
    "  return 2*j/s\n",
    "def grad2(w1,w2,w3,w4,w5,w6,w7):\n",
    "  j=0\n",
    "  for i in range(1,s):\n",
    "    j=j+ (w1*tr.carlength[i]+w2*tr.horsepower[i]+w3*tr.enginesize[i]+w4*tr.carheight[i]+w5*tr.carwidth[i]+w6*tr.stroke[i]+w7-tr.price[i])*(tr.horsepower[i])\n",
    "  return 2*j/s\n",
    "def grad3(w1,w2,w3,w4,w5,w6,w7):\n",
    "  j=0\n",
    "  for i in range(1,s):\n",
    "    j=j+ (w1*tr.carlength[i]+w2*tr.horsepower[i]+w3*tr.enginesize[i]+w4*tr.carheight[i]+w5*tr.carwidth[i]+w6*tr.stroke[i]+w7-tr.price[i])*(tr.enginesize[i])\n",
    "  return 2*j/s\n",
    "def grad4(w1,w2,w3,w4,w5,w6,w7):\n",
    "  j=0\n",
    "  for i in range(1,s):\n",
    "    j=j+ (w1*tr.carlength[i]+w2*tr.horsepower[i]+w3*tr.enginesize[i]+w4*tr.carheight[i]+w5*tr.carwidth[i]+w6*tr.stroke[i]+w7-tr.price[i])*(tr.carheight[i])\n",
    "  return 2*j/s\n",
    "def grad5(w1,w2,w3,w4,w5,w6,w7):\n",
    "  j=0\n",
    "  for i in range(1,s):\n",
    "    j=j+ (w1*tr.carlength[i]+w2*tr.horsepower[i]+w3*tr.enginesize[i]+w4*tr.carheight[i]+w5*tr.carwidth[i]+w6*tr.stroke[i]+w7-tr.price[i])*(tr.carwidth[i])\n",
    "  return 2*j/s\n",
    "def grad6(w1,w2,w3,w4,w5,w6,w7):\n",
    "  j=0\n",
    "  for i in range(1,s):\n",
    "    j=j+ (w1*tr.carlength[i]+w2*tr.horsepower[i]+w3*tr.enginesize[i]+w4*tr.carheight[i]+w5*tr.carwidth[i]+w6*tr.stroke[i]+w7-tr.price[i])*(tr.stroke[i])\n",
    "  return 2*j/s\n",
    "def grad7(w1,w2,w3,w4,w5,w6,w7):\n",
    "  j=0\n",
    "  for i in range(1,s):\n",
    "    j=j+ (w1*tr.carlength[i]+w2*tr.horsepower[i]+w3*tr.enginesize[i]+w4*tr.carheight[i]+w5*tr.carwidth[i]+w6*tr.stroke[i]+w7-tr.price[i])\n",
    "  return 2*j/s"
   ]
  },
  {
   "cell_type": "code",
   "execution_count": 36,
   "metadata": {},
   "outputs": [
    {
     "name": "stdout",
     "output_type": "stream",
     "text": [
      "-10.363454965943554 62.200918039823065 125.2470435037311 -45.10847616965089 -69.36935810972021 -8.958996455305037 -1.8534681285622945\n"
     ]
    },
    {
     "data": {
      "image/png": "[encoded data removed]",
      "text/plain": [
       "<Figure size 432x288 with 1 Axes>"
      ]
     },
     "metadata": {
      "needs_background": "light"
     },
     "output_type": "display_data"
    }
   ],
   "source": [
    "# training\n",
    "w1=w2=w3=w4=w5=w6=w7=0\n",
    "a=0.00001\n",
    "it=[]\n",
    "cost=[]\n",
    "\n",
    "for i in range(1,1000):\n",
    " ww1=w1-a*grad1(w1,w2,w3,w4,w5,w6,w7)\n",
    " ww2=w2-a*grad2(w1,w2,w3,w4,w5,w6,w7)\n",
    " ww3=w3-a*grad3(w1,w2,w3,w4,w5,w6,w7)\n",
    " ww4=w4-a*grad4(w1,w2,w3,w4,w5,w6,w7)\n",
    " ww5=w5-a*grad5(w1,w2,w3,w4,w5,w6,w7)\n",
    " ww6=w6-a*grad6(w1,w2,w3,w4,w5,w6,w7)\n",
    " ww7=w7-a*grad7(w1,w2,w3,w4,w5,w6,w7)\n",
    " w1=ww1\n",
    " w2=ww2\n",
    " w3=ww3\n",
    " w4=ww4\n",
    " w5=ww5\n",
    " w6=ww6\n",
    " w7=ww7\n",
    " it.append(i)\n",
    " cost.append(cos(w1,w2,w3,w4,w5,w6,w7))\n",
    "mp.plot(it,cost)\n",
    "mp.xlabel(\"Iteration\")\n",
    "mp.ylabel(\"Cost\")\n",
    "print(w1,w2,w3,w4,w5,w6,w7) \n"
   ]
  },
  {
   "cell_type": "code",
   "execution_count": 37,
   "metadata": {},
   "outputs": [
    {
     "name": "stdout",
     "output_type": "stream",
     "text": [
      "The mean deviation is  412.64737632811944\n",
      "The SD of deviations is 3448.8825171237295\n"
     ]
    }
   ],
   "source": [
    "# Testing \n",
    "k=0\n",
    "for i in range(s+1,x):\n",
    " k=k+abs(w1*te.carlength[i]+w2*te.horsepower[i]+w3*te.enginesize[i]+w4*te.carheight[i]+w5*te.carwidth[i]+w6*te.stroke[i]+w7-te.price[i])\n",
    "k=k/x-s\n",
    "print(\"The mean deviation is \",k)\n",
    "v=0\n",
    "for i in range(s+1,x):\n",
    " v=v+(k-abs(w1*te.carlength[i]+w2*te.horsepower[i]+w3*te.enginesize[i]+w4*te.carheight[i]+w5*te.carwidth[i]+w6*te.stroke[i]+w7-te.price[i]))**2\n",
    "v=(v/(x-s))**0.5\n",
    "print(\"The SD of deviations is\",v)"
   ]
  },
  {
   "cell_type": "code",
   "execution_count": 38,
   "metadata": {},
   "outputs": [
    {
     "name": "stdout",
     "output_type": "stream",
     "text": [
      "The estimated price for the given features  is  21204.952895029368\n"
     ]
    }
   ],
   "source": [
    "# Price of Ishan's car\n",
    "carlength = 190.9\n",
    "carwidth =70.3\n",
    "carheight = 54.9\n",
    "enginesize = 183\n",
    "stroke = 3.64\n",
    "horsepower = 123\n",
    "print(\"The estimated price for the given features  is \",w1*carlength+w2*horsepower+w3*enginesize+w4*carheight+w5*carwidth+w6*stroke+w7)"
   ]
  }
 ],
 "metadata": {
  "kernelspec": {
   "display_name": "Python 3.10.4 64-bit",
   "language": "python",
   "name": "python3"
  },
  "language_info": {
   "codemirror_mode": {
    "name": "ipython",
    "version": 3
   },
   "file_extension": ".py",
   "mimetype": "text/x-python",
   "name": "python",
   "nbconvert_exporter": "python",
   "pygments_lexer": "ipython3",
   "version": "3.10.4"
  },
  "orig_nbformat": 4,
  "vscode": {
   "interpreter": {
    "hash": "916dbcbb3f70747c44a77c7bcd40155683ae19c65e1c03b4aa3499c5328201f1"
   }
  }
 },
 "nbformat": 4,
 "nbformat_minor": 2
}
